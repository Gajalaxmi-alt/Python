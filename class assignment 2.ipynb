{
 "cells": [
  {
   "cell_type": "code",
   "execution_count": 4,
   "id": "583530ce-bea3-4745-bfc1-c8e84e23cd11",
   "metadata": {},
   "outputs": [],
   "source": [
    "from Multiplecategory import multicategory"
   ]
  },
  {
   "cell_type": "code",
   "execution_count": 5,
   "id": "9e5c3840-ec0c-477f-8d5a-9b068510769c",
   "metadata": {},
   "outputs": [
    {
     "name": "stdin",
     "output_type": "stream",
     "text": [
      "Enter the BMI Index 25\n"
     ]
    },
    {
     "name": "stdout",
     "output_type": "stream",
     "text": [
      "Overweight\n"
     ]
    },
    {
     "data": {
      "text/plain": [
       "'Overweight'"
      ]
     },
     "execution_count": 5,
     "metadata": {},
     "output_type": "execute_result"
    }
   ],
   "source": [
    "multicategory.BMI()"
   ]
  },
  {
   "cell_type": "code",
   "execution_count": 6,
   "id": "8b6976e2-3624-437e-b9d7-8a06c1060f39",
   "metadata": {},
   "outputs": [
    {
     "name": "stdin",
     "output_type": "stream",
     "text": [
      "Enter the Age: 25\n"
     ]
    },
    {
     "name": "stdout",
     "output_type": "stream",
     "text": [
      "Adult\n"
     ]
    },
    {
     "data": {
      "text/plain": [
       "'Adult'"
      ]
     },
     "execution_count": 6,
     "metadata": {},
     "output_type": "execute_result"
    }
   ],
   "source": [
    "multicategory.age()"
   ]
  },
  {
   "cell_type": "code",
   "execution_count": 7,
   "id": "86b3e31e-a248-40f8-a816-5102a5ff4b51",
   "metadata": {},
   "outputs": [
    {
     "name": "stdin",
     "output_type": "stream",
     "text": [
      "Enter a number: 25\n"
     ]
    },
    {
     "name": "stdout",
     "output_type": "stream",
     "text": [
      "odd number\n"
     ]
    },
    {
     "data": {
      "text/plain": [
       "'odd number'"
      ]
     },
     "execution_count": 7,
     "metadata": {},
     "output_type": "execute_result"
    }
   ],
   "source": [
    "multicategory.oddeven()"
   ]
  },
  {
   "cell_type": "code",
   "execution_count": null,
   "id": "bac6021a-5ca5-4844-8ce5-d72a8cee298f",
   "metadata": {},
   "outputs": [],
   "source": []
  }
 ],
 "metadata": {
  "kernelspec": {
   "display_name": "Python [conda env:base] *",
   "language": "python",
   "name": "conda-base-py"
  },
  "language_info": {
   "codemirror_mode": {
    "name": "ipython",
    "version": 3
   },
   "file_extension": ".py",
   "mimetype": "text/x-python",
   "name": "python",
   "nbconvert_exporter": "python",
   "pygments_lexer": "ipython3",
   "version": "3.12.7"
  }
 },
 "nbformat": 4,
 "nbformat_minor": 5
}
