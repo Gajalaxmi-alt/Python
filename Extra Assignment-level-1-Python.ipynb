{
 "cells": [
  {
   "cell_type": "code",
   "execution_count": 45,
   "id": "bb63eeb3-f6d3-4196-bf9e-e9e487948e32",
   "metadata": {},
   "outputs": [
    {
     "name": "stdout",
     "output_type": "stream",
     "text": [
      "HOPE AI\n"
     ]
    }
   ],
   "source": [
    "print(\"HOPE AI\")"
   ]
  },
  {
   "cell_type": "raw",
   "id": "5a2138a3-ecfd-4c15-acaf-80f82455da9c",
   "metadata": {},
   "source": []
  },
  {
   "cell_type": "code",
   "execution_count": 48,
   "id": "ce805aa5-27d1-491e-ae90-80598fa85686",
   "metadata": {},
   "outputs": [
    {
     "name": "stdin",
     "output_type": "stream",
     "text": [
      "Enter your Institute Name: HOPE AI\n"
     ]
    }
   ],
   "source": [
    "InstituteName=input(\"Enter your Institute Name:\")"
   ]
  },
  {
   "cell_type": "code",
   "execution_count": 49,
   "id": "564c51f9-58d9-4f5a-8c93-7a04931aee63",
   "metadata": {},
   "outputs": [
    {
     "name": "stdout",
     "output_type": "stream",
     "text": [
      "ENTER YOUR INSTITUTE NAME?: HOPE AI\n"
     ]
    }
   ],
   "source": [
    "print(\"ENTER YOUR INSTITUTE NAME?:\", InstituteName)"
   ]
  },
  {
   "cell_type": "code",
   "execution_count": 60,
   "id": "c1b870a2-5dd6-4c6e-ade9-1b8954342a7f",
   "metadata": {},
   "outputs": [
    {
     "name": "stdin",
     "output_type": "stream",
     "text": [
      "Enter your Name: Raj\n"
     ]
    }
   ],
   "source": [
    "NAME=input(\"Enter your Name:\")"
   ]
  },
  {
   "cell_type": "code",
   "execution_count": 57,
   "id": "5e1875be-32c2-42d3-8333-6ebfd3172486",
   "metadata": {},
   "outputs": [
    {
     "name": "stdin",
     "output_type": "stream",
     "text": [
      "Enter your Age: 15\n"
     ]
    }
   ],
   "source": [
    "AGE=int(input(\"Enter your Age:\"))\n",
    "        "
   ]
  },
  {
   "cell_type": "code",
   "execution_count": 58,
   "id": "a85c49d8-58d3-4621-ae91-8098b7e2d624",
   "metadata": {},
   "outputs": [
    {
     "name": "stdin",
     "output_type": "stream",
     "text": [
      "Enter your Schoolname: Guru School\n"
     ]
    }
   ],
   "source": [
    "SCHOOLNAME=input(\"Enter your Schoolname:\")"
   ]
  },
  {
   "cell_type": "code",
   "execution_count": 59,
   "id": "d528e531-e8ed-4b76-a34b-a4acf95f0692",
   "metadata": {},
   "outputs": [
    {
     "name": "stdin",
     "output_type": "stream",
     "text": [
      "Enter your Degree: B.E CSE\n"
     ]
    }
   ],
   "source": [
    "DEGREE=input(\"Enter your Degree:\")"
   ]
  },
  {
   "cell_type": "code",
   "execution_count": 65,
   "id": "a74f3983-c3c6-47fe-b1ce-e672f3e89d61",
   "metadata": {},
   "outputs": [
    {
     "name": "stdout",
     "output_type": "stream",
     "text": [
      "Enter your name: Raj\n",
      "Enter your age: 15\n",
      "Enter your school name: Guru School\n",
      "Enter your degree: B.E CSE\n"
     ]
    }
   ],
   "source": [
    "print(\"Enter your name:\", NAME)\n",
    "print(\"Enter your age:\", AGE)\n",
    "print(\"Enter your school name:\", SCHOOLNAME)\n",
    "print(\"Enter your degree:\", DEGREE)"
   ]
  },
  {
   "cell_type": "code",
   "execution_count": null,
   "id": "d6aeb69e-a91f-4884-a602-f984a33a4dda",
   "metadata": {},
   "outputs": [],
   "source": [
    "a=43\n",
    "b=34\n",
    "add=77"
   ]
  },
  {
   "cell_type": "code",
   "execution_count": 67,
   "id": "ad1dcd4a-4eb8-4ccd-8cef-bc9dad83b6bc",
   "metadata": {},
   "outputs": [
    {
     "name": "stdin",
     "output_type": "stream",
     "text": [
      "enter the value for a: 43\n"
     ]
    }
   ],
   "source": [
    "num1=int(input(\"enter the value for a:\"))"
   ]
  },
  {
   "cell_type": "code",
   "execution_count": 69,
   "id": "258a82db-25d7-4ac9-9b22-732e08694972",
   "metadata": {},
   "outputs": [
    {
     "name": "stdin",
     "output_type": "stream",
     "text": [
      "enter the value for b: 34\n"
     ]
    }
   ],
   "source": [
    "num2=int(input(\"enter the value for b:\"))"
   ]
  },
  {
   "cell_type": "code",
   "execution_count": null,
   "id": "ccfd1767-7777-4efe-8c0a-beef129ee9bd",
   "metadata": {},
   "outputs": [],
   "source": [
    "add=num1+num2"
   ]
  },
  {
   "cell_type": "code",
   "execution_count": 78,
   "id": "33714fc9-ae5c-43f7-b9fb-40d2e493ef8d",
   "metadata": {},
   "outputs": [
    {
     "name": "stdout",
     "output_type": "stream",
     "text": [
      "a= 43\n",
      "b= 34\n",
      "add= 77\n"
     ]
    }
   ],
   "source": [
    "print(\"a=\",num1)\n",
    "print(\"b=\",num2)\n",
    "print(\"add=\", num1+num2)"
   ]
  },
  {
   "cell_type": "code",
   "execution_count": null,
   "id": "1f531f1a-d127-4ae2-a5e9-cca7944197f7",
   "metadata": {},
   "outputs": [],
   "source": [
    "# Subtraction"
   ]
  },
  {
   "cell_type": "code",
   "execution_count": null,
   "id": "51e86ebe-eca8-4b46-9fee-ab2dd72f68bb",
   "metadata": {},
   "outputs": [],
   "source": [
    "sub=num1-num2"
   ]
  },
  {
   "cell_type": "code",
   "execution_count": 82,
   "id": "30096dde-393d-4fdc-bc8b-6b7099505c94",
   "metadata": {},
   "outputs": [
    {
     "name": "stdout",
     "output_type": "stream",
     "text": [
      "a= 43\n",
      "b= 34\n",
      "sub= 9\n"
     ]
    }
   ],
   "source": [
    "print(\"a=\",num1)\n",
    "print(\"b=\", num2)\n",
    "print(\"sub=\",num1-num2)"
   ]
  },
  {
   "cell_type": "code",
   "execution_count": null,
   "id": "1709ff93-8300-4608-9816-dffb059a2c63",
   "metadata": {},
   "outputs": [],
   "source": [
    "#multiplication"
   ]
  },
  {
   "cell_type": "code",
   "execution_count": null,
   "id": "8ae5df9b-2d4a-4fba-9582-65383dd2839e",
   "metadata": {},
   "outputs": [],
   "source": [
    "mul=num3*num4"
   ]
  },
  {
   "cell_type": "code",
   "execution_count": null,
   "id": "29b5ac68-26d9-4022-8f84-6c3dd936be25",
   "metadata": {},
   "outputs": [],
   "source": [
    "\n"
   ]
  },
  {
   "cell_type": "code",
   "execution_count": 98,
   "id": "0d6b30d2-bdb8-43fe-be7a-4080c01aa745",
   "metadata": {},
   "outputs": [
    {
     "name": "stdin",
     "output_type": "stream",
     "text": [
      "enter the value for a: 63\n"
     ]
    }
   ],
   "source": [
    "num3=int(input(\"enter the value for a:\"))"
   ]
  },
  {
   "cell_type": "code",
   "execution_count": 100,
   "id": "bb03a18a-157b-4203-b3f1-e85fc841e924",
   "metadata": {},
   "outputs": [
    {
     "name": "stdin",
     "output_type": "stream",
     "text": [
      "enter the value for b: 97\n"
     ]
    }
   ],
   "source": [
    "num4=int(input(\"enter the value for b:\"))"
   ]
  },
  {
   "cell_type": "code",
   "execution_count": 105,
   "id": "84a236c5-61f0-41a5-b8c6-630b3f9d72c0",
   "metadata": {},
   "outputs": [
    {
     "name": "stdout",
     "output_type": "stream",
     "text": [
      "a= 63\n",
      "b= 97\n",
      "mul= 6111\n"
     ]
    }
   ],
   "source": [
    "print(\"a=\",num3)\n",
    "print(\"b=\",num4)\n",
    "print(\"mul=\",num3*num4)"
   ]
  },
  {
   "cell_type": "code",
   "execution_count": null,
   "id": "5284d72d-e692-48c5-a4b8-2e27141364a2",
   "metadata": {},
   "outputs": [],
   "source": [
    "#Division"
   ]
  },
  {
   "cell_type": "code",
   "execution_count": 107,
   "id": "b4054416-17c8-400c-885f-8dbd5cbdb722",
   "metadata": {},
   "outputs": [
    {
     "name": "stdin",
     "output_type": "stream",
     "text": [
      "enter the value for a: 76\n"
     ]
    }
   ],
   "source": [
    "num5=int(input(\"enter the value for a:\"))"
   ]
  },
  {
   "cell_type": "code",
   "execution_count": 108,
   "id": "2c687b1e-ceee-46ac-8903-ad7cdab22278",
   "metadata": {},
   "outputs": [
    {
     "name": "stdin",
     "output_type": "stream",
     "text": [
      "enter the value for b: 31\n"
     ]
    }
   ],
   "source": [
    "num6=int(input(\"enter the value for b:\"))"
   ]
  },
  {
   "cell_type": "code",
   "execution_count": null,
   "id": "755daa66-6d4c-48e9-b7a6-29fc8a331eb5",
   "metadata": {},
   "outputs": [],
   "source": []
  },
  {
   "cell_type": "code",
   "execution_count": null,
   "id": "3e745fc4-4dd3-4baf-a351-1b6d675a355a",
   "metadata": {},
   "outputs": [],
   "source": [
    "float div=a/float(b)"
   ]
  },
  {
   "cell_type": "code",
   "execution_count": 111,
   "id": "b11a6ff5-0982-4685-85e1-d589ab4375e5",
   "metadata": {},
   "outputs": [
    {
     "name": "stdout",
     "output_type": "stream",
     "text": [
      "a= 76\n",
      "b= 31\n",
      "Float Div- 2.4516129032258065\n"
     ]
    }
   ],
   "source": [
    "print(\"a=\",num5)\n",
    "print(\"b=\",num6)\n",
    "print(\"Float Div-\",num5/float(num6))"
   ]
  },
  {
   "cell_type": "code",
   "execution_count": null,
   "id": "87971b28-c8e0-4374-87e9-f73ea9a3f3bd",
   "metadata": {},
   "outputs": [],
   "source": [
    "#floor division"
   ]
  },
  {
   "cell_type": "code",
   "execution_count": null,
   "id": "296b42f9-adb0-4c34-8067-ab2b80702a9d",
   "metadata": {},
   "outputs": [],
   "source": [
    "floor div=num5//num6"
   ]
  },
  {
   "cell_type": "code",
   "execution_count": 114,
   "id": "2c0993d9-3c8d-46a0-a64a-a4f8ffc58cf3",
   "metadata": {},
   "outputs": [
    {
     "name": "stdout",
     "output_type": "stream",
     "text": [
      "a= 76\n",
      "b= 31\n",
      "Floor Div= 2\n"
     ]
    }
   ],
   "source": [
    "print(\"a=\",num5)\n",
    "print(\"b=\",num6)\n",
    "print(\"Floor Div=\",num5//num6)"
   ]
  },
  {
   "cell_type": "code",
   "execution_count": null,
   "id": "961a58dc-ff81-4095-8b05-b2a30f8fb0b3",
   "metadata": {},
   "outputs": [],
   "source": [
    "#Modulo"
   ]
  },
  {
   "cell_type": "code",
   "execution_count": null,
   "id": "3e4e11d3-94d3-45f4-90d7-b1201741131e",
   "metadata": {},
   "outputs": [],
   "source": [
    "Modulo=num5%num6"
   ]
  },
  {
   "cell_type": "code",
   "execution_count": 117,
   "id": "4b4b8801-8cae-44a4-88e4-0ed13eb5864d",
   "metadata": {},
   "outputs": [
    {
     "name": "stdout",
     "output_type": "stream",
     "text": [
      "a= 76\n",
      "b= 31\n",
      "Modulo= 14\n"
     ]
    }
   ],
   "source": [
    "print(\"a=\",num5)\n",
    "print(\"b=\",num6)\n",
    "print(\"Modulo=\",num5%num6)"
   ]
  },
  {
   "cell_type": "code",
   "execution_count": null,
   "id": "1a977fff-4657-4df1-bba9-d98d8a949efc",
   "metadata": {},
   "outputs": [],
   "source": [
    "#power"
   ]
  },
  {
   "cell_type": "code",
   "execution_count": 118,
   "id": "c866ea82-1d92-4b2b-a832-d5d1ee927adc",
   "metadata": {},
   "outputs": [
    {
     "name": "stdin",
     "output_type": "stream",
     "text": [
      "enter the value for a : 4\n"
     ]
    }
   ],
   "source": [
    "num7=int(input(\"enter the value for a :\"))"
   ]
  },
  {
   "cell_type": "code",
   "execution_count": 120,
   "id": "34d47522-cfff-4075-84f7-5a9c53863632",
   "metadata": {},
   "outputs": [
    {
     "name": "stdin",
     "output_type": "stream",
     "text": [
      "enter the value for b: 4\n"
     ]
    }
   ],
   "source": [
    "num8=int(input(\"enter the value for b:\"))"
   ]
  },
  {
   "cell_type": "code",
   "execution_count": null,
   "id": "452be1e2-8417-4630-8b22-e3e3f5eb708a",
   "metadata": {},
   "outputs": [],
   "source": [
    "power=num7**num8"
   ]
  },
  {
   "cell_type": "code",
   "execution_count": 125,
   "id": "a8d92206-25f4-4e77-b5fc-2cb3492905a5",
   "metadata": {},
   "outputs": [
    {
     "name": "stdout",
     "output_type": "stream",
     "text": [
      "a= 4\n",
      "b= 4\n",
      "power= 256\n"
     ]
    }
   ],
   "source": [
    "print(\"a=\",num7)\n",
    "print(\"b=\",num8)\n",
    "print(\"power=\",num7**num8)"
   ]
  },
  {
   "cell_type": "code",
   "execution_count": null,
   "id": "a0e020c6-dd5b-4b1f-a269-e82f479a51be",
   "metadata": {},
   "outputs": [],
   "source": []
  }
 ],
 "metadata": {
  "kernelspec": {
   "display_name": "Python [conda env:base] *",
   "language": "python",
   "name": "conda-base-py"
  },
  "language_info": {
   "codemirror_mode": {
    "name": "ipython",
    "version": 3
   },
   "file_extension": ".py",
   "mimetype": "text/x-python",
   "name": "python",
   "nbconvert_exporter": "python",
   "pygments_lexer": "ipython3",
   "version": "3.12.7"
  }
 },
 "nbformat": 4,
 "nbformat_minor": 5
}
