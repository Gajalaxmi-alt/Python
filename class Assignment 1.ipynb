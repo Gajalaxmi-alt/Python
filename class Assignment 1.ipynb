{
 "cells": [
  {
   "cell_type": "code",
   "execution_count": 11,
   "id": "5705c286-3bb8-489c-90ff-a7edc9424491",
   "metadata": {},
   "outputs": [],
   "source": [
    "lists=[\"Machine learning\",\"Neural Networks\",\"Vision\",\"Robotics\",\"Speech Processing\",\"Natural Language processing\"]"
   ]
  },
  {
   "cell_type": "code",
   "execution_count": 23,
   "id": "96f853b3-5d3c-404d-bf07-85b16a197e3f",
   "metadata": {},
   "outputs": [],
   "source": [
    "class SubfieldsInAI():\n",
    "    def Subfields():\n",
    "        lists=[\"Machine learning\",\"Neural Networks\",\"Vision\",\"Robotics\",\"Speech Processing\",\"Natural Language processing\"]\n",
    "        print(\"sub-fieldsin AI are:\")\n",
    "        lists=[\"Machine learning\",\"Neural Networks\",\"Vision\",\"Robotics\",\"Speech Processing\",\"Natural Language processing\"]\n",
    "        for temp in lists:\n",
    "            print(temp)"
   ]
  },
  {
   "cell_type": "code",
   "execution_count": 24,
   "id": "20694e0c-41d1-4f45-bd52-912cef4e2626",
   "metadata": {},
   "outputs": [
    {
     "name": "stdout",
     "output_type": "stream",
     "text": [
      "sub-fieldsin AI are:\n",
      "Machine learning\n",
      "Neural Networks\n",
      "Vision\n",
      "Robotics\n",
      "Speech Processing\n",
      "Natural Language processing\n"
     ]
    }
   ],
   "source": [
    "SubfieldsInAI.Subfields()"
   ]
  },
  {
   "cell_type": "code",
   "execution_count": null,
   "id": "59e8a5f0-2197-4282-920c-9d46115180db",
   "metadata": {},
   "outputs": [],
   "source": [
    "*create a function that checks whether teh given number is odd or even"
   ]
  },
  {
   "cell_type": "code",
   "execution_count": null,
   "id": "9b1c0e6f-6c7c-4e79-96e2-b5c91d1de722",
   "metadata": {},
   "outputs": [],
   "source": [
    "*create a function that checks whether teh given number is odd or even"
   ]
  },
  {
   "cell_type": "code",
   "execution_count": null,
   "id": "2fcaed05-3570-42e8-b509-5b7d7aecf39d",
   "metadata": {},
   "outputs": [],
   "source": [
    "OddEven.OddEven()"
   ]
  },
  {
   "cell_type": "code",
   "execution_count": 8,
   "id": "3aaf11ed-8ab7-4f71-add8-7dfcf695c30f",
   "metadata": {},
   "outputs": [],
   "source": [
    "class OddEven():\n",
    "    def OddEven():\n",
    "        num=int(input(\"Enter a number:\"))\n",
    "        if((num%2==1)):\n",
    "            print(num,('is even number:'))\n",
    "        else:\n",
    "            print(num,('is odd number:'))"
   ]
  },
  {
   "cell_type": "code",
   "execution_count": 9,
   "id": "24251e13-41d4-48c8-a80b-4039a4f4f982",
   "metadata": {},
   "outputs": [
    {
     "name": "stdin",
     "output_type": "stream",
     "text": [
      "Enter a number: 52452\n"
     ]
    },
    {
     "name": "stdout",
     "output_type": "stream",
     "text": [
      "52452 is odd number:\n"
     ]
    }
   ],
   "source": [
    "OddEven.OddEven()"
   ]
  },
  {
   "cell_type": "code",
   "execution_count": null,
   "id": "0f9c31a4-3104-47aa-91c6-a75de1d4c93c",
   "metadata": {},
   "outputs": [],
   "source": [
    "EligibilityForMarriage.Eligiblee()"
   ]
  },
  {
   "cell_type": "code",
   "execution_count": 16,
   "id": "56b26fcb-6879-4661-af68-ab6f045903ba",
   "metadata": {},
   "outputs": [],
   "source": [
    "class EligibilityForMarriage():\n",
    "    def Eligible():\n",
    "            Gender=(input(\"Your Gender:\"))\n",
    "            age=int(input(\"your Age:\"))\n",
    "            marriageelgible=()\n",
    "            if(age<=20):\n",
    "                print(\"NOT ELIGIBLE\")\n",
    "            else:\n",
    "                print(\"ELIGIBLE\")"
   ]
  },
  {
   "cell_type": "code",
   "execution_count": 17,
   "id": "d44b40d9-fac6-45e5-9034-2315b2d32696",
   "metadata": {},
   "outputs": [
    {
     "name": "stdin",
     "output_type": "stream",
     "text": [
      "Your Gender: MALE\n",
      "your Age: 20\n"
     ]
    },
    {
     "name": "stdout",
     "output_type": "stream",
     "text": [
      "NOT ELIGIBLE\n"
     ]
    }
   ],
   "source": [
    "EligibilityForMarriage.Eligible()"
   ]
  },
  {
   "cell_type": "code",
   "execution_count": null,
   "id": "466cabce-8d8b-43d6-a405-4bd6b327eca0",
   "metadata": {},
   "outputs": [],
   "source": [
    "Findpercent.percentage()"
   ]
  },
  {
   "cell_type": "code",
   "execution_count": 18,
   "id": "ea94b774-13eb-4b74-9520-85a482312096",
   "metadata": {},
   "outputs": [],
   "source": [
    "class Findpercent():\n",
    "    def percentage():\n",
    "        S1=int(input(\"SUBJECT1=\"))\n",
    "        S2=int(input(\"SUBJECT2=\"))\n",
    "        S3=int(input(\"SUBJECT3=\"))\n",
    "        S4=int(input(\"SUBJECT4=\"))\n",
    "        S5=int(input(\"SUBJECT5=\"))\n",
    "        Tot=(S1+S2+S3+S4+S5)\n",
    "        print(\"Total:\",Tot)\n",
    "        percent=Tot/5\n",
    "        print(\"percentage:\",percent)"
   ]
  },
  {
   "cell_type": "code",
   "execution_count": 19,
   "id": "88d3de99-e1aa-4dea-ade0-4d4e507ddab9",
   "metadata": {},
   "outputs": [
    {
     "name": "stdin",
     "output_type": "stream",
     "text": [
      "SUBJECT1= 98\n",
      "SUBJECT2= 57\n",
      "SUBJECT3= 95\n",
      "SUBJECT4= 95\n",
      "SUBJECT5= 93\n"
     ]
    },
    {
     "name": "stdout",
     "output_type": "stream",
     "text": [
      "Total: 438\n",
      "percentage: 87.6\n"
     ]
    }
   ],
   "source": [
    "Findpercent.percentage()93"
   ]
  },
  {
   "cell_type": "code",
   "execution_count": null,
   "id": "2b94cd37-b837-46bd-b95f-90d79dce1618",
   "metadata": {},
   "outputs": [],
   "source": [
    "triangle.triangle()"
   ]
  },
  {
   "cell_type": "code",
   "execution_count": 21,
   "id": "fd5a46a3-0db4-459e-81b5-571b28ec191a",
   "metadata": {},
   "outputs": [],
   "source": [
    "class triangle():\n",
    "    def triangle():\n",
    "        Ht=int(input(\"Height:\"))\n",
    "        Br=int(input(\"Breadth:\"))\n",
    "        print(\"Area Fromula:(Height*Breadth)/2\")\n",
    "        print(\"Area of triangle:\",(Ht*Br/2))\n",
    "        Ht1=int(input(\"Height1:\"))\n",
    "        Ht2=int(input(\"Height2:\"))\n",
    "        Br1=int(input(\"Breadth:\"))\n",
    "        print(\"perimeter formula:Height1+Height2+Breadth\")\n",
    "        print(\"perimeter of traingle:\",Ht1+Ht2+Br1)\n",
    "              "
   ]
  },
  {
   "cell_type": "code",
   "execution_count": 22,
   "id": "d1aad9fe-85eb-47cc-a7b9-c58c6c0c70b2",
   "metadata": {},
   "outputs": [
    {
     "name": "stdin",
     "output_type": "stream",
     "text": [
      "Height: 32\n",
      "Breadth: 34\n"
     ]
    },
    {
     "name": "stdout",
     "output_type": "stream",
     "text": [
      "Area Fromula:(Height*Breadth)/2\n",
      "Area of triangle: 544.0\n"
     ]
    },
    {
     "name": "stdin",
     "output_type": "stream",
     "text": [
      "Height1: 2\n",
      "Height2: 4\n",
      "Breadth: 4\n"
     ]
    },
    {
     "name": "stdout",
     "output_type": "stream",
     "text": [
      "perimeter formula:Height1+Height2+Breadth\n",
      "perimeter of traingle: 10\n"
     ]
    }
   ],
   "source": [
    "triangle.triangle()"
   ]
  }
 ],
 "metadata": {
  "kernelspec": {
   "display_name": "Python [conda env:base] *",
   "language": "python",
   "name": "conda-base-py"
  },
  "language_info": {
   "codemirror_mode": {
    "name": "ipython",
    "version": 3
   },
   "file_extension": ".py",
   "mimetype": "text/x-python",
   "name": "python",
   "nbconvert_exporter": "python",
   "pygments_lexer": "ipython3",
   "version": "3.12.7"
  }
 },
 "nbformat": 4,
 "nbformat_minor": 5
}
