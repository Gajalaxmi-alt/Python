{
 "cells": [
  {
   "cell_type": "code",
   "execution_count": 11,
   "id": "5705c286-3bb8-489c-90ff-a7edc9424491",
   "metadata": {},
   "outputs": [],
   "source": [
    "lists=[\"Machine learning\",\"Neural Networks\",\"Vision\",\"Robotics\",\"Speech Processing\",\"Natural Language processing\"]"
   ]
  },
  {
   "cell_type": "code",
   "execution_count": 20,
   "id": "488fed59-2fcb-4569-99a5-07b1109c821c",
   "metadata": {},
   "outputs": [],
   "source": [
    "def subfields():\n",
    "    print(\"sub-fields in AI are:\")\n"
   ]
  },
  {
   "cell_type": "code",
   "execution_count": 21,
   "id": "572b2cc4-7a7d-4894-9300-307b651c9d0a",
   "metadata": {},
   "outputs": [
    {
     "name": "stdout",
     "output_type": "stream",
     "text": [
      "sub-fields in AI are:\n",
      "Machine learning\n",
      "Neural Networks\n",
      "Vision\n",
      "Robotics\n",
      "Speech Processing\n",
      "Natural Language processing\n"
     ]
    }
   ],
   "source": [
    "subfields()\n",
    "for temp in lists:\n",
    "    print(temp)"
   ]
  },
  {
   "cell_type": "code",
   "execution_count": null,
   "id": "59e8a5f0-2197-4282-920c-9d46115180db",
   "metadata": {},
   "outputs": [],
   "source": [
    "*create a function that checks whether teh given number is odd or even"
   ]
  },
  {
   "cell_type": "code",
   "execution_count": 44,
   "id": "3aaf11ed-8ab7-4f71-add8-7dfcf695c30f",
   "metadata": {},
   "outputs": [],
   "source": [
    "def oddeven():\n",
    "    if((num%2==1)):\n",
    "        print(num,('is even number:'))\n",
    "    else:\n",
    "        print(num,('is odd number:'))"
   ]
  },
  {
   "cell_type": "code",
   "execution_count": 41,
   "id": "bba6f1f3-e26b-4dee-8681-4fde5c8ec845",
   "metadata": {},
   "outputs": [
    {
     "name": "stdin",
     "output_type": "stream",
     "text": [
      "Enter a number: 52452\n"
     ]
    },
    {
     "name": "stdout",
     "output_type": "stream",
     "text": [
      "52452 is odd number:\n"
     ]
    }
   ],
   "source": [
    "num=int(input(\"Enter a number:\"))\n",
    "oddeven()"
   ]
  },
  {
   "cell_type": "code",
   "execution_count": 54,
   "id": "438db65a-8ece-40a8-982a-03c1fe0bfc54",
   "metadata": {},
   "outputs": [],
   "source": [
    "def marraigeelgible():\n",
    "    if(age<=20):\n",
    "        print(\"NOT ELGIBLE\")\n",
    "    else:\n",
    "        print(\"ELIGIBLE\")\n",
    "        \n"
   ]
  },
  {
   "cell_type": "code",
   "execution_count": 53,
   "id": "96eb16fe-e95d-475a-b544-1411209697be",
   "metadata": {},
   "outputs": [
    {
     "name": "stdin",
     "output_type": "stream",
     "text": [
      "Your Gender: MALE\n",
      "your Age: 20\n"
     ]
    },
    {
     "name": "stdout",
     "output_type": "stream",
     "text": [
      "NOT ELGIBLE\n"
     ]
    }
   ],
   "source": [
    "Gender=(input(\"Your Gender:\"))\n",
    "age=int(input(\"your Age:\"))\n",
    "marraigeelgible()"
   ]
  },
  {
   "cell_type": "code",
   "execution_count": null,
   "id": "c1dd98da-b36e-4519-bb14-45434582845b",
   "metadata": {},
   "outputs": [],
   "source": [
    "FIND PERCENT.PERCENTAGE()"
   ]
  },
  {
   "cell_type": "code",
   "execution_count": 1,
   "id": "ea94b774-13eb-4b74-9520-85a482312096",
   "metadata": {},
   "outputs": [
    {
     "name": "stdin",
     "output_type": "stream",
     "text": [
      "SUBJECT1= 23\n",
      "SUBJECT2= 45\n",
      "SUBJECT3= 34\n",
      "SUBJECT4= 23\n",
      "SUBJECT5= 23\n"
     ]
    },
    {
     "name": "stdout",
     "output_type": "stream",
     "text": [
      "Total: 148\n",
      "percentage: 29.6\n"
     ]
    }
   ],
   "source": [
    "S1=int(input(\"SUBJECT1=\"))\n",
    "S2=int(input(\"SUBJECT2=\"))\n",
    "S3=int(input(\"SUBJECT3=\"))\n",
    "S4=int(input(\"SUBJECT4=\"))\n",
    "S5=int(input(\"SUBJECT5=\"))\n",
    "Tot=(S1+S2+S3+S4+S5)\n",
    "print(\"Total:\",Tot)\n",
    "percent=Tot/5\n",
    "print(\"percentage:\",percent)"
   ]
  },
  {
   "cell_type": "code",
   "execution_count": null,
   "id": "2b94cd37-b837-46bd-b95f-90d79dce1618",
   "metadata": {},
   "outputs": [],
   "source": [
    "traingle.traingle()"
   ]
  },
  {
   "cell_type": "code",
   "execution_count": 124,
   "id": "fd5a46a3-0db4-459e-81b5-571b28ec191a",
   "metadata": {},
   "outputs": [
    {
     "name": "stdin",
     "output_type": "stream",
     "text": [
      "Height: 32\n",
      "Breadth: 34\n"
     ]
    },
    {
     "name": "stdout",
     "output_type": "stream",
     "text": [
      "Area Fromula:(Height*Breadth)/2\n",
      "Area of triangle: 544.0\n"
     ]
    },
    {
     "name": "stdin",
     "output_type": "stream",
     "text": [
      "Height1: 2\n",
      "Height2: 4\n",
      "Breadth: 4\n"
     ]
    },
    {
     "name": "stdout",
     "output_type": "stream",
     "text": [
      "perimeter formula:Height1+Height2+Breadth\n",
      "peimeter of traingle: 10\n"
     ]
    }
   ],
   "source": [
    "Ht=int(input(\"Height:\"))\n",
    "Br=int(input(\"Breadth:\"))\n",
    "print(\"Area Fromula:(Height*Breadth)/2\")\n",
    "print(\"Area of triangle:\",(Ht*Br/2))\n",
    "Ht1=int(input(\"Height1:\"))\n",
    "Ht2=int(input(\"Height2:\"))\n",
    "Br1=int(input(\"Breadth:\"))\n",
    "print(\"perimeter formula:Height1+Height2+Breadth\")\n",
    "print(\"peimeter of traingle:\",Ht1+Ht2+Br1)\n",
    "              "
   ]
  },
  {
   "cell_type": "code",
   "execution_count": null,
   "id": "f87fd34c-25f0-4503-aa60-2ebcb053f769",
   "metadata": {},
   "outputs": [],
   "source": []
  }
 ],
 "metadata": {
  "kernelspec": {
   "display_name": "Python [conda env:base] *",
   "language": "python",
   "name": "conda-base-py"
  },
  "language_info": {
   "codemirror_mode": {
    "name": "ipython",
    "version": 3
   },
   "file_extension": ".py",
   "mimetype": "text/x-python",
   "name": "python",
   "nbconvert_exporter": "python",
   "pygments_lexer": "ipython3",
   "version": "3.12.7"
  }
 },
 "nbformat": 4,
 "nbformat_minor": 5
}
