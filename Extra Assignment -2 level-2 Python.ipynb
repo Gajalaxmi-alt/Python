{
 "cells": [
  {
   "cell_type": "code",
   "execution_count": 1,
   "id": "2129668c-0dd6-4fab-b030-fcda2ac0aa67",
   "metadata": {},
   "outputs": [],
   "source": [
    "#print 0 to 20 using range"
   ]
  },
  {
   "cell_type": "code",
   "execution_count": 2,
   "id": "994d6806-78cb-4ed5-b19c-1e7fcda5fd57",
   "metadata": {},
   "outputs": [
    {
     "name": "stdout",
     "output_type": "stream",
     "text": [
      "0\n",
      "1\n",
      "2\n",
      "3\n",
      "4\n",
      "5\n",
      "6\n",
      "7\n",
      "8\n",
      "9\n",
      "10\n",
      "11\n",
      "12\n",
      "13\n",
      "14\n",
      "15\n",
      "16\n",
      "17\n",
      "18\n",
      "19\n"
     ]
    }
   ],
   "source": [
    "for num in range(0,20):\n",
    "    print(num)"
   ]
  },
  {
   "cell_type": "code",
   "execution_count": 3,
   "id": "33b25b15-5dac-4355-91ed-32bf949135ea",
   "metadata": {},
   "outputs": [],
   "source": [
    "#print20 to 30 using range"
   ]
  },
  {
   "cell_type": "code",
   "execution_count": 5,
   "id": "c30e3e4a-478a-4fba-875c-69b37551b2ef",
   "metadata": {},
   "outputs": [
    {
     "name": "stdout",
     "output_type": "stream",
     "text": [
      "10 11 12 13 14 15 16 17 18 19 "
     ]
    }
   ],
   "source": [
    "for num in range(10,20):\n",
    "    print(num,end=\" \")\n"
   ]
  },
  {
   "cell_type": "code",
   "execution_count": 35,
   "id": "70ffc1fb-1402-4228-931f-f69cdf286b36",
   "metadata": {},
   "outputs": [],
   "source": [
    "lists2=[10,20,14,55,43,87,76]\n",
    "    "
   ]
  },
  {
   "cell_type": "code",
   "execution_count": 39,
   "id": "41b07d6c-f39d-4fbb-8731-17cb6977ee65",
   "metadata": {},
   "outputs": [
    {
     "name": "stdout",
     "output_type": "stream",
     "text": [
      "[10, 20, 14, 55, 43, 87, 76]\n",
      "Number of items in the Lists2:\n",
      "7\n"
     ]
    }
   ],
   "source": [
    "print(lists2)\n",
    "print(\"Number of items in the Lists2:\")\n",
    "print(len(lists2))"
   ]
  },
  {
   "cell_type": "code",
   "execution_count": 42,
   "id": "65525105-19d3-47e9-b811-622b25cda47c",
   "metadata": {},
   "outputs": [],
   "source": [
    "list3=(\"Artificial Intelligence\")"
   ]
  },
  {
   "cell_type": "code",
   "execution_count": 43,
   "id": "d222d48f-4a9c-4638-9d36-d3f8a9b7bf9c",
   "metadata": {},
   "outputs": [
    {
     "name": "stdout",
     "output_type": "stream",
     "text": [
      "A\n",
      "r\n",
      "t\n",
      "i\n",
      "f\n",
      "i\n",
      "c\n",
      "i\n",
      "a\n",
      "l\n",
      " \n",
      "I\n",
      "n\n",
      "t\n",
      "e\n",
      "l\n",
      "l\n",
      "i\n",
      "g\n",
      "e\n",
      "n\n",
      "c\n",
      "e\n"
     ]
    }
   ],
   "source": [
    "for temp in list3:\n",
    "    print(temp)"
   ]
  },
  {
   "cell_type": "code",
   "execution_count": 63,
   "id": "37b2de04-ca5a-4779-81da-578bdefcda3e",
   "metadata": {},
   "outputs": [],
   "source": [
    "list4=[\"-Your Name-\",\"-Your Age-\",\"-Your Profession\"]"
   ]
  },
  {
   "cell_type": "code",
   "execution_count": 64,
   "id": "ad703b03-3da8-4dde-9aee-b4bb0d4288fa",
   "metadata": {},
   "outputs": [
    {
     "name": "stdout",
     "output_type": "stream",
     "text": [
      "-Your Name-\n",
      "-Your Age-\n",
      "-Your Profession\n"
     ]
    }
   ],
   "source": [
    "for temp in list4:\n",
    "    print(temp)"
   ]
  },
  {
   "cell_type": "code",
   "execution_count": null,
   "id": "4b38ae90-c834-4f44-9a97-e0dc7554ca84",
   "metadata": {},
   "outputs": [],
   "source": [
    "#(1,\"welcome\", 2,\"Hope\")"
   ]
  },
  {
   "cell_type": "code",
   "execution_count": 65,
   "id": "6b73af7a-9bb3-46d7-aba1-80c1af400892",
   "metadata": {},
   "outputs": [],
   "source": [
    "tup=(1,\"welcome\", 2,\"Hope\")"
   ]
  },
  {
   "cell_type": "code",
   "execution_count": 66,
   "id": "5b42b70b-833c-42a7-8b14-7a66868032cd",
   "metadata": {},
   "outputs": [
    {
     "name": "stdout",
     "output_type": "stream",
     "text": [
      "(1, 'welcome', 2, 'Hope')\n"
     ]
    }
   ],
   "source": [
    "print(tup)"
   ]
  },
  {
   "cell_type": "code",
   "execution_count": 77,
   "id": "5d627d44-9872-4a55-809c-dc6fcfb87ce2",
   "metadata": {},
   "outputs": [],
   "source": [
    "tup1=(0,1,2,3)\n",
    "tup2=('Python','HOPE')\n",
    "tup3=(tup1,tup2)"
   ]
  },
  {
   "cell_type": "code",
   "execution_count": 78,
   "id": "29223199-9939-4b0c-ae3d-52b5740a9380",
   "metadata": {},
   "outputs": [
    {
     "name": "stdout",
     "output_type": "stream",
     "text": [
      "((0, 1, 2, 3), ('Python', 'HOPE'))\n"
     ]
    }
   ],
   "source": [
    "print(tup3)"
   ]
  },
  {
   "cell_type": "code",
   "execution_count": null,
   "id": "9637c11b-ec3d-408e-8565-3e8a8571217c",
   "metadata": {},
   "outputs": [],
   "source": [
    "#print even numbers in teh list"
   ]
  },
  {
   "cell_type": "code",
   "execution_count": 94,
   "id": "45f2e37f-51ca-4dc5-b02c-3a88f90bb272",
   "metadata": {},
   "outputs": [],
   "source": [
    "list=(20,10,16,19,25,1,276,188)"
   ]
  },
  {
   "cell_type": "code",
   "execution_count": 101,
   "id": "4370a46d-9164-4a10-aa82-d720feaf072f",
   "metadata": {},
   "outputs": [
    {
     "name": "stdout",
     "output_type": "stream",
     "text": [
      "20 is even number\n",
      "10 is even number\n",
      "16 is even number\n",
      "276 is even number\n",
      "188 is even number\n"
     ]
    }
   ],
   "source": [
    "for num in list:\n",
    "    if((num%2)==0):\n",
    "        print(num,\"is even number\")"
   ]
  }
 ],
 "metadata": {
  "kernelspec": {
   "display_name": "Python [conda env:base] *",
   "language": "python",
   "name": "conda-base-py"
  },
  "language_info": {
   "codemirror_mode": {
    "name": "ipython",
    "version": 3
   },
   "file_extension": ".py",
   "mimetype": "text/x-python",
   "name": "python",
   "nbconvert_exporter": "python",
   "pygments_lexer": "ipython3",
   "version": "3.12.7"
  }
 },
 "nbformat": 4,
 "nbformat_minor": 5
}
