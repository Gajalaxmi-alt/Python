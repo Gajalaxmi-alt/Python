{
 "cells": [
  {
   "cell_type": "code",
   "execution_count": 19,
   "id": "5786ad6e-139f-4d26-b2b2-7976fe03da65",
   "metadata": {},
   "outputs": [],
   "source": [
    "from Multiplecategories import multiplecategories"
   ]
  },
  {
   "cell_type": "code",
   "execution_count": 22,
   "id": "83e0dd5d-05f1-4b4e-ba09-e69ffd6c7d81",
   "metadata": {},
   "outputs": [
    {
     "name": "stdin",
     "output_type": "stream",
     "text": [
      "Enter a number: 52452\n"
     ]
    },
    {
     "name": "stdout",
     "output_type": "stream",
     "text": [
      "52452 is odd number:\n"
     ]
    }
   ],
   "source": [
    "multiplecategories.OddEven()"
   ]
  },
  {
   "cell_type": "code",
   "execution_count": 23,
   "id": "320a1545-cfdb-4380-b21f-e92213952b2b",
   "metadata": {},
   "outputs": [
    {
     "name": "stdin",
     "output_type": "stream",
     "text": [
      "Your Gender: MALE\n",
      "your Age: 20\n"
     ]
    },
    {
     "name": "stdout",
     "output_type": "stream",
     "text": [
      "NOT ELIGIBLE\n"
     ]
    }
   ],
   "source": [
    "multiplecategories.Eligible()"
   ]
  },
  {
   "cell_type": "code",
   "execution_count": 27,
   "id": "0f727e82-054a-4e08-a0f4-9e2c4880e3f8",
   "metadata": {},
   "outputs": [
    {
     "name": "stdin",
     "output_type": "stream",
     "text": [
      "SUBJECT1= 23\n",
      "SUBJECT2= 45\n",
      "SUBJECT3= 34\n",
      "SUBJECT4= 23\n",
      "SUBJECT5= 23\n"
     ]
    },
    {
     "name": "stdout",
     "output_type": "stream",
     "text": [
      "Total: 148\n",
      "percentage: 29.6\n"
     ]
    }
   ],
   "source": [
    "multiplecategories.percentage()"
   ]
  },
  {
   "cell_type": "code",
   "execution_count": 28,
   "id": "c6a7f8d2-7346-4e92-8cd5-b3f0cda4d283",
   "metadata": {},
   "outputs": [
    {
     "name": "stdin",
     "output_type": "stream",
     "text": [
      "Height: 32\n",
      "Breadth: 34\n"
     ]
    },
    {
     "name": "stdout",
     "output_type": "stream",
     "text": [
      "Area Fromula:(Height*Breadth)/2\n",
      "Area of triangle: 544.0\n"
     ]
    },
    {
     "name": "stdin",
     "output_type": "stream",
     "text": [
      "Height1: 2\n",
      "Height2: 4\n",
      "Breadth: 4\n"
     ]
    },
    {
     "name": "stdout",
     "output_type": "stream",
     "text": [
      "perimeter formula:Height1+Height2+Breadth\n",
      "perimeter of traingle: 10\n"
     ]
    }
   ],
   "source": [
    "multiplecategories.triangle()"
   ]
  },
  {
   "cell_type": "code",
   "execution_count": null,
   "id": "297229c2-3ab7-445e-96f9-2c112d19cb70",
   "metadata": {},
   "outputs": [],
   "source": []
  }
 ],
 "metadata": {
  "kernelspec": {
   "display_name": "Python [conda env:base] *",
   "language": "python",
   "name": "conda-base-py"
  },
  "language_info": {
   "codemirror_mode": {
    "name": "ipython",
    "version": 3
   },
   "file_extension": ".py",
   "mimetype": "text/x-python",
   "name": "python",
   "nbconvert_exporter": "python",
   "pygments_lexer": "ipython3",
   "version": "3.12.7"
  }
 },
 "nbformat": 4,
 "nbformat_minor": 5
}
