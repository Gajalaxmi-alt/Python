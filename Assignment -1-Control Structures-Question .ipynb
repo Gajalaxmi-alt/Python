{
 "cells": [
  {
   "cell_type": "code",
   "execution_count": 2,
   "id": "6478de83-0e9c-4abd-a219-83f961909141",
   "metadata": {},
   "outputs": [
    {
     "name": "stdout",
     "output_type": "stream",
     "text": [
      "Welcome to Assignment-1\n"
     ]
    }
   ],
   "source": [
    "print(\"Welcome to Assignment-1\")"
   ]
  },
  {
   "cell_type": "code",
   "execution_count": 11,
   "id": "51ec5b14-4e38-4df5-ad68-28544be73a0d",
   "metadata": {},
   "outputs": [
    {
     "name": "stdout",
     "output_type": "stream",
     "text": [
      "Num1= 10\n",
      "Num2= 30\n",
      "Add= 40\n"
     ]
    }
   ],
   "source": [
    "Num1= 10\n",
    "Num2= 30\n",
    "Add= 40\n",
    "print(\"Num1=\",10)\n",
    "print(\"Num2=\",30)\n",
    "print(\"Add=\",Num1+Num2)"
   ]
  },
  {
   "cell_type": "code",
   "execution_count": null,
   "id": "b5a627a0-d96c-4fa6-bbc0-95fa01238d1f",
   "metadata": {},
   "outputs": [],
   "source": [
    "#Body Mass Index\n"
   ]
  },
  {
   "cell_type": "code",
   "execution_count": 18,
   "id": "0a42fb45-80d6-405d-a351-d38f7d4b465f",
   "metadata": {},
   "outputs": [
    {
     "name": "stdin",
     "output_type": "stream",
     "text": [
      "Enter the BMI: 34\n"
     ]
    }
   ],
   "source": [
    "BMI=int(input(\"Enter the BMI:\"))"
   ]
  },
  {
   "cell_type": "code",
   "execution_count": 23,
   "id": "edd0028a-7878-4e00-8da4-febccb80d939",
   "metadata": {},
   "outputs": [
    {
     "name": "stdout",
     "output_type": "stream",
     "text": [
      "Enter the BMI Index: 34\n"
     ]
    }
   ],
   "source": [
    "print(\"Enter the BMI Index:\",BMI)"
   ]
  },
  {
   "cell_type": "code",
   "execution_count": 22,
   "id": "92764d97-5bb0-41a6-8263-1a965f9c6ea4",
   "metadata": {},
   "outputs": [
    {
     "name": "stdout",
     "output_type": "stream",
     "text": [
      "Very Overweight\n"
     ]
    }
   ],
   "source": [
    "if(BMI<18.5):\n",
    "    print(\"Underweight\")\n",
    "elif(BMI<24.9):\n",
    "    print(\"Normal\")\n",
    "elif(BMI<29.9):\n",
    "    print(\"Overweight\")\n",
    "else:\n",
    "    print(\"Very Overweight\")\n",
    "\n"
   ]
  },
  {
   "cell_type": "code",
   "execution_count": null,
   "id": "35d6a4a7-3ad6-4b6c-b45b-88f2d46d7bbd",
   "metadata": {},
   "outputs": [],
   "source": []
  }
 ],
 "metadata": {
  "kernelspec": {
   "display_name": "Python [conda env:base] *",
   "language": "python",
   "name": "conda-base-py"
  },
  "language_info": {
   "codemirror_mode": {
    "name": "ipython",
    "version": 3
   },
   "file_extension": ".py",
   "mimetype": "text/x-python",
   "name": "python",
   "nbconvert_exporter": "python",
   "pygments_lexer": "ipython3",
   "version": "3.12.7"
  }
 },
 "nbformat": 4,
 "nbformat_minor": 5
}
