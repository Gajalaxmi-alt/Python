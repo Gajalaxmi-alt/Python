{
 "cells": [
  {
   "cell_type": "markdown",
   "id": "78bf4d87-17b9-479e-9e05-f2ee3268b346",
   "metadata": {},
   "source": []
  },
  {
   "cell_type": "code",
   "execution_count": null,
   "id": "1c572dc6-afe6-41b5-9e7b-ccc45f4a380c",
   "metadata": {},
   "outputs": [],
   "source": [
    "#print'CORRECT' if==10"
   ]
  },
  {
   "cell_type": "code",
   "execution_count": 8,
   "id": "eb2e6c8d-ae5c-4ca7-be98-1215cb68d6a4",
   "metadata": {},
   "outputs": [
    {
     "name": "stdin",
     "output_type": "stream",
     "text": [
      " value: 10\n"
     ]
    },
    {
     "name": "stdout",
     "output_type": "stream",
     "text": [
      "correct\n"
     ]
    }
   ],
   "source": [
    "num=int(input(\" value:\"))\n",
    "if(num==10):\n",
    "    print(\"correct\")\n"
   ]
  },
  {
   "cell_type": "code",
   "execution_count": null,
   "id": "d69c2915-60d8-40bf-851b-c85facde8076",
   "metadata": {},
   "outputs": [],
   "source": [
    "#Enter the password:HOPE@123\n",
    "Your password is correct"
   ]
  },
  {
   "cell_type": "code",
   "execution_count": 11,
   "id": "9e048a1f-73ae-47f8-829f-c4d5034bb51a",
   "metadata": {},
   "outputs": [
    {
     "name": "stdin",
     "output_type": "stream",
     "text": [
      "Enter the password: HOPE@123\n"
     ]
    },
    {
     "name": "stdout",
     "output_type": "stream",
     "text": [
      "your password is correct\n"
     ]
    }
   ],
   "source": [
    "Pw=input(\"Enter the password:\")\n",
    "if(Pw==\"HOPE@123\"):\n",
    "    print(\"your password is correct\")\n",
    "else:\n",
    "    print(\"your password is incorrect, type the correct password\")"
   ]
  },
  {
   "cell_type": "code",
   "execution_count": null,
   "id": "f6d0b861-1410-453e-b298-bcd43b0fd292",
   "metadata": {},
   "outputs": [],
   "source": [
    "# category the people by their age like children, adult, citizen, senior citizen"
   ]
  },
  {
   "cell_type": "code",
   "execution_count": 20,
   "id": "711b809e-44b5-4bf6-b7f3-07d7f2106aed",
   "metadata": {},
   "outputs": [
    {
     "name": "stdin",
     "output_type": "stream",
     "text": [
      "age: 20\n"
     ]
    },
    {
     "name": "stdout",
     "output_type": "stream",
     "text": [
      "Adult\n"
     ]
    }
   ],
   "source": [
    "age=input(\"age:\")\n",
    "if(age==18):\n",
    "    print(\"children\")\n",
    "else:\n",
    "    print(\"Adult\")"
   ]
  },
  {
   "cell_type": "code",
   "execution_count": null,
   "id": "9c7b2256-a0d4-434e-a6ff-04048f1729ed",
   "metadata": {},
   "outputs": [],
   "source": [
    "# find given number  is positive or negative"
   ]
  },
  {
   "cell_type": "code",
   "execution_count": 40,
   "id": "a2b4a157-9de8-4614-8e36-baeb3b61108e",
   "metadata": {},
   "outputs": [
    {
     "name": "stdin",
     "output_type": "stream",
     "text": [
      "Enter any number: 1\n"
     ]
    },
    {
     "name": "stdout",
     "output_type": "stream",
     "text": [
      "No is positive\n"
     ]
    }
   ],
   "source": [
    "Num=int(input(\"Enter any number:\"))\n",
    "if(Num>=1):\n",
    "    print(\"No is positive\")\n",
    "else:\n",
    "    print(\"No is negative\")\n",
    "        "
   ]
  },
  {
   "cell_type": "code",
   "execution_count": null,
   "id": "11951eaa-bdfc-4adb-aef5-d069ac6eb4d4",
   "metadata": {},
   "outputs": [],
   "source": [
    "*check whether the given number is divisible by 5"
   ]
  },
  {
   "cell_type": "code",
   "execution_count": 43,
   "id": "85a31e19-cbe6-427a-bc8b-52b4e3f67cee",
   "metadata": {},
   "outputs": [
    {
     "name": "stdin",
     "output_type": "stream",
     "text": [
      "Enter a number to check: 20\n"
     ]
    },
    {
     "name": "stdout",
     "output_type": "stream",
     "text": [
      "No is not divisible by 5\n"
     ]
    }
   ],
   "source": [
    "num2=int(input(\"Enter a number to check:\"))\n",
    "if((num2%5)==0):\n",
    "    print(\"No is not divisible by 5\")"
   ]
  },
  {
   "cell_type": "code",
   "execution_count": null,
   "id": "6649ba71-b7f0-4a9a-9412-e2a482e6884f",
   "metadata": {},
   "outputs": [],
   "source": [
    "* if the user entered vaue is not equal to 10"
   ]
  },
  {
   "cell_type": "code",
   "execution_count": 8,
   "id": "7d5b37f3-95b0-434c-a821-4e7e530eed84",
   "metadata": {},
   "outputs": [
    {
     "name": "stdin",
     "output_type": "stream",
     "text": [
      "enter the value: 20\n"
     ]
    }
   ],
   "source": [
    "num=int(input(\"enter the value:\"))\n"
   ]
  },
  {
   "cell_type": "code",
   "execution_count": 15,
   "id": "1bf8b2d7-1c9c-4fca-87ae-bf0f5e443232",
   "metadata": {},
   "outputs": [
    {
     "name": "stdin",
     "output_type": "stream",
     "text": [
      "enter the value: 15\n"
     ]
    },
    {
     "name": "stdout",
     "output_type": "stream",
     "text": [
      "the value entered is not equal to 10\n"
     ]
    }
   ],
   "source": [
    "num=int(input(\"enter the value:\"))\n",
    "if((num==10)):\n",
    "    print(\"the value entered is equal to 10\")\n",
    "else:\n",
    "    print(\"the value entered is not equal to 10\")\n",
    "    "
   ]
  },
  {
   "cell_type": "code",
   "execution_count": null,
   "id": "e36a123a-6eb4-4c33-97b7-82a0b88d5ea4",
   "metadata": {},
   "outputs": [],
   "source": []
  }
 ],
 "metadata": {
  "kernelspec": {
   "display_name": "Python [conda env:base] *",
   "language": "python",
   "name": "conda-base-py"
  },
  "language_info": {
   "codemirror_mode": {
    "name": "ipython",
    "version": 3
   },
   "file_extension": ".py",
   "mimetype": "text/x-python",
   "name": "python",
   "nbconvert_exporter": "python",
   "pygments_lexer": "ipython3",
   "version": "3.12.7"
  }
 },
 "nbformat": 4,
 "nbformat_minor": 5
}
